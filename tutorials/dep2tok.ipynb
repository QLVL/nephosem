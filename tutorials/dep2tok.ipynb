{
 "cells": [
  {
   "cell_type": "markdown",
   "metadata": {},
   "source": [
    "<font size=6>From dependencies to token level matrices</font>\n",
    "\n",
    "In this notebook I will sketch what the workflow should look like to link what we have of dependencies and what we need for tokens\n",
    "I will exemplify with tokens of _stof/noun_"
   ]
  },
  {
   "cell_type": "markdown",
   "metadata": {},
   "source": [
    "## Source file example\n",
    "This is what a file with dependency data looks like (from QLVLNewsCorpus)"
   ]
  },
  {
   "cell_type": "markdown",
   "metadata": {},
   "source": [
    "### Import modules"
   ]
  },
  {
   "cell_type": "code",
   "execution_count": 2,
   "metadata": {
    "ExecuteTime": {
     "end_time": "2020-01-08T16:49:18.524352Z",
     "start_time": "2020-01-08T16:49:17.107201Z"
    }
   },
   "outputs": [
    {
     "name": "stdout",
     "output_type": "stream",
     "text": [
      "/home/tao/Projects/mariana/depmodel/qlvl\n"
     ]
    }
   ],
   "source": [
    "import sys\n",
    "# qlvldir = \"/home/aardvark/code/typetokenQLVL\"\n",
    "qlvldir = \"/home/tao/Projects/mariana/depmodel\" # for my testing\n",
    "# (I modified dephandler.py, lines 447-453 in my version, to format the read files)\n",
    "sys.path.append(qlvldir)\n",
    "\n",
    "import qlvl\n",
    "print(qlvl.rootdir)\n",
    "from qlvl.conf import ConfigLoader\n",
    "from qlvl import CorpusFormatter\n",
    "\n",
    "from qlvl.core.matrix import TypeTokenMatrix\n",
    "from qlvl.core.graph import SentenceGraph, MacroGraph, PatternGraph\n",
    "from qlvl.models.typetoken import ItemFreqHandler\n",
    "from qlvl.models.deprel import DepRelHandler, read_sentence\n",
    "from qlvl.deprel.deputils import split_large_file\n",
    "from qlvl.specutils.deputils import parse_pattern, draw_tree, draw_match, draw_labels, get_root\n",
    "from qlvl.specutils.mxutils import transform_dict_to_spmatrix\n",
    "\n",
    "# OLD MODULES\n",
    "# from qlvl.deprel.dephandler import DepRelParalleler, DepRelHandler, read_sentence\n",
    "# from qlvl.deprel.deputils import split_large_file, draw_tree, draw_match, draw_labels\n",
    "# from qlvl.deprel.basic import SentenceGraph, TemplateGraph, FeatureGraph, get_root\n",
    "\n",
    "\n",
    "import os\n",
    "# import re\n",
    "# import json\n",
    "# import time\n",
    "# import multiprocessing as mp\n",
    "# from collections import deque\n",
    "# from itertools import product\n",
    "\n",
    "# from queue import Queue\n",
    "# import threading\n",
    "\n",
    "from copy import deepcopy\n",
    "# import networkx as nx\n",
    "from networkx.drawing.nx_agraph import write_dot, graphviz_layout\n",
    "import matplotlib.pyplot as plt\n",
    "%matplotlib inline"
   ]
  },
  {
   "cell_type": "markdown",
   "metadata": {},
   "source": [
    "QUESTION: Are ALL those modules necessary?"
   ]
  },
  {
   "cell_type": "markdown",
   "metadata": {},
   "source": [
    "ANSWER: The modules commented are non-necessary."
   ]
  },
  {
   "cell_type": "markdown",
   "metadata": {},
   "source": [
    "### Configuration\n",
    "Example settings:\n",
    "```\n",
    "[Encoding]\n",
    "file-encoding=utf-8\n",
    "output-encoding=utf-8\n",
    "\n",
    "[Data]\n",
    "corpus-path=/home/enzocxt/Projects/QLVL/typetoken_workdir/typetokenQLVL/qlvl/tests/data/StanfDepSents\n",
    "output-path=/home/enzocxt/Projects/QLVL/typetoken_workdir/typetokenQLVL/qlvl/tests/data/output\n",
    "\n",
    "[Corpus-Format]\n",
    "line-machine = ([^\\t]+)\\t([^\\t]+)\\t([^\\t]+)\\t([^\\t]+)\\t([^\\t]+)\\t([^\\t]+)\n",
    "global-columns = FORM,POS,LEMMA,ID,HEAD,DEPREL\n",
    "line-format = FORM,POS,LEMMA,ID,HEAD,DEPREL\n",
    "node-attr = FORM,POS,LEMMA\n",
    "edge-attr = DEPREL\n",
    "currID = ID\n",
    "headID = HEAD\n",
    "type = LEMMA/POS\n",
    "colloc = LEMMA/POS\n",
    "token = LEMMA/POS/FID/LID\n",
    "```\n",
    "\n",
    "These example settings are used for our toy corpus __StanfDepSents__.  Let's look at an example sentence:  \n",
    "`The girl eats the apple that the baby boy has given her`\n",
    "\n",
    "```\n",
    "The\tDT\tthe\t1\t2\tdet\n",
    "girl\tNN\tgirl\t2\t3\tnsubj\n",
    "eats\tVBZ\teat\t3\t0\tROOT\n",
    "the\tDT\tthe\t4\t5\tdet\n",
    "apple\tNN\tapple\t5\t3\tdobj\n",
    "that\tWDT\tthat\t6\t11\tdobj\n",
    "the\tDT\tthe\t7\t8\tdet\n",
    "baby\tNN\tbaby\t8\t9\tcompound\n",
    "boy\tNN\tboy\t9\t11\tnsubj\n",
    "has\tVBZ\thave\t10\t11\taux\n",
    "given\tVBN\tgive\t11\t5\trelcl\n",
    "her\tPRP\ther\t12\t11\tdative\n",
    "```\n",
    "\n",
    "The sentences in the corpus files have words per line. Each word line has _six_ columns which correspond to `FORM,POS,LEMMA,ID,HEAD,DEPREL`, set in `global-columns`. And in the `line-machine` setting, we extract also _six_ values from each line. The `global-columns` setting associate each column name to the group/value of the results matched by `line-machine`.  \n",
    "The following is a piece of script about how we set our `type`, `colloc`, and `token` by settings."
   ]
  },
  {
   "cell_type": "code",
   "execution_count": 3,
   "metadata": {
    "ExecuteTime": {
     "end_time": "2020-01-08T17:05:42.598430Z",
     "start_time": "2020-01-08T17:05:42.574670Z"
    }
   },
   "outputs": [
    {
     "name": "stdout",
     "output_type": "stream",
     "text": [
      "boy/NN , boy/NN , boy/NN/fname/1\n"
     ]
    }
   ],
   "source": [
    "conf = ConfigLoader()\n",
    "stanfdep_conf = \"{}/qlvl/tests/data/StanfDepSents.config.ini\".format(qlvldir)\n",
    "settings = conf.update_config(stanfdep_conf)\n",
    "formatter = CorpusFormatter(settings)\n",
    "\n",
    "line = 'boy\tNN\tboy\t2\t3\tnsubj'\n",
    "match = formatter.match_line(line)\n",
    "form = formatter.get(match, 'FORM') # -> boy\n",
    "type_ = formatter.get_type(match)\n",
    "colloc = formatter.get_colloc(match)\n",
    "token = formatter.get_token(match, 'fname', '1')\n",
    "print(type_, ',', colloc, ',', token)"
   ]
  },
  {
   "cell_type": "markdown",
   "metadata": {},
   "source": [
    "But for the corpus QLVLNews, we have such lines:\n",
    "```\n",
    "1\tPresident\tpresident\tnoun\t7\tsu\t_\t_\n",
    "2\tWellink\tWellink\tname\t1\tapp\t_\t_\n",
    "3\tvan\tvan\tprep\t1\tmod\t_\t_\n",
    "4\tDe\tDe\tname\t3\tobj1\t_\t_\n",
    "5\tNederlandsche\tNederlandsche\tname\t4\tmwp\t_\t_\n",
    "6\tBank\tBank\tname\t4\tmwp\t_\t_\n",
    "7\tacht\tacht\tverb\t0\tROOT\t_\t_\n",
    "...\n",
    "```\n",
    "Each corpus line has _eight_ columns which are the first _six_ and the last two empty(or?) lines. But because we only fetch the first __six__ groups/values of the results matched by `line-machine` (`([^\\t]+)\\t([^\\t]+)\\t([^\\t]+)\\t([^\\t]+)\\t([^\\t]+)\\t([^\\t]+)\\t[^\\t]+\\t[^\\t]+`), we also only need to give the first __six__ column names in `global-columns`. The following gives you an example."
   ]
  },
  {
   "cell_type": "code",
   "execution_count": 4,
   "metadata": {
    "ExecuteTime": {
     "end_time": "2020-01-08T17:18:36.589456Z",
     "start_time": "2020-01-08T17:18:36.576997Z"
    }
   },
   "outputs": [
    {
     "name": "stdout",
     "output_type": "stream",
     "text": [
      "/home/tao/Projects/mariana/deprel/Output/\n"
     ]
    }
   ],
   "source": [
    "conf = ConfigLoader()\n",
    "settings = conf.settings  # -> default settings\n",
    "settings['corpus-path'] = \"/home/tao/Projects/mariana/QLVLNews\"\n",
    "settings['output-path'] = \"/home/tao/Projects/mariana/deprel/Output/\"\n",
    "output_path = settings['output-path']\n",
    "settings['file-encoding'] = 'latin-1'  # INPUT FILE ENCODING\n",
    "settings['output-encoding'] = 'utf-8'  # OUTPUT FILE ENCODING\n",
    "print(output_path)\n",
    "\n",
    "settings[\"line-machine\"] = \"([^\\t]+)\\t([^\\t]+)\\t([^\\t]+)\\t([^\\t]+)\\t([^\\t]+)\\t([^\\t]+)\\t[^\\t]+\\t[^\\t]+\"\n",
    "# SET SENTENCE SEPARATOR HERE (END BOUNDARY IS ENOUGH HERE)\n",
    "settings['separator-line-machine'] = \"</sentence>\"\n",
    "settings['global-columns'] = \"ID,FORM,LEMMA,POS,HEAD,DEPREL\"\n",
    "# corresponds to the your previous setting\n",
    "# settings['line-format'] = \"curId,word,lemma,pos,toId,rel\"\n",
    "settings['note-attr'] = 'FORM,LEMMA,POS'\n",
    "settings['edge-attr'] = 'DEPREL'\n",
    "settings['currID'] = 'ID'\n",
    "settings['headID'] = 'HEAD'\n",
    "settings['type'] = 'LEMMA/POS'\n",
    "settings['colloc'] = 'LEMMA/POS'\n",
    "settings['token'] = 'LEMMA/POS/FID/LID'\n",
    "formatter = CorpusFormatter(settings)"
   ]
  },
  {
   "cell_type": "code",
   "execution_count": 5,
   "metadata": {
    "ExecuteTime": {
     "end_time": "2020-01-08T17:20:42.070964Z",
     "start_time": "2020-01-08T17:20:42.063027Z"
    }
   },
   "outputs": [
    {
     "name": "stdout",
     "output_type": "stream",
     "text": [
      "President , president/noun , president/noun , president/noun/fname/1\n"
     ]
    }
   ],
   "source": [
    "# TEST BEFORE YOU RUN\n",
    "line = '1\tPresident\tpresident\tnoun\t7\tsu\t_\t_'\n",
    "match = formatter.match_line(line)\n",
    "form = formatter.get(match, 'FORM')\n",
    "type_ = formatter.get_type(match)\n",
    "colloc = formatter.get_colloc(match)\n",
    "token = formatter.get_token(match, 'fname', '1')\n",
    "print(form, ',', type_, ',', colloc, ',', token)"
   ]
  },
  {
   "cell_type": "markdown",
   "metadata": {},
   "source": [
    "Now let's see a full sentence example."
   ]
  },
  {
   "cell_type": "code",
   "execution_count": 6,
   "metadata": {
    "ExecuteTime": {
     "end_time": "2020-01-08T17:21:32.183627Z",
     "start_time": "2020-01-08T17:21:31.492580Z"
    },
    "scrolled": true
   },
   "outputs": [
    {
     "name": "stderr",
     "output_type": "stream",
     "text": [
      "/home/tao/Projects/VENV/pyenv/lib/python3.6/site-packages/networkx/drawing/nx_pylab.py:563: MatplotlibDeprecationWarning: \n",
      "The iterable function was deprecated in Matplotlib 3.1 and will be removed in 3.3. Use np.iterable instead.\n",
      "  if not cb.iterable(width):\n",
      "/home/tao/Projects/VENV/pyenv/lib/python3.6/site-packages/networkx/drawing/nx_pylab.py:660: MatplotlibDeprecationWarning: \n",
      "The iterable function was deprecated in Matplotlib 3.1 and will be removed in 3.3. Use np.iterable instead.\n",
      "  if cb.iterable(node_size):  # many node sizes\n"
     ]
    },
    {
     "data": {
      "image/png": "[encoded data removed]",
      "text/plain": [
       "<Figure size 1080x864 with 1 Axes>"
      ]
     },
     "metadata": {
      "needs_background": "light"
     },
     "output_type": "display_data"
    }
   ],
   "source": [
    "sentence = \"\"\"1\tPresident\tpresident\tnoun\t7\tsu\t_\t_\n",
    "2\tWellink\tWellink\tname\t1\tapp\t_\t_\n",
    "3\tvan\tvan\tprep\t1\tmod\t_\t_\n",
    "4\tDe\tDe\tname\t3\tobj1\t_\t_\n",
    "5\tNederlandsche\tNederlandsche\tname\t4\tmwp\t_\t_\n",
    "6\tBank\tBank\tname\t4\tmwp\t_\t_\n",
    "7\tacht\tacht\tverb\t0\tROOT\t_\t_\n",
    "8\tde\tde\tdet\t9\tdet\t_\t_\n",
    "9\tkans\tkans\tnoun\t7\tobj1\t_\t_\n",
    "10\tklein\tklein\tadj\t7\tpredc\t_\t_\n",
    "11\tdat\tdat\tcomp\t9\tvc\t_\t_\n",
    "12\tde\tde\tdet\t13\tdet\t_\t_\n",
    "13\tbeeltenis\tbeeltenis\tnoun\t25\tsu\t_\t_\n",
    "14\tvan\tvan\tprep\t13\tmod\t_\t_\n",
    "15\tkoningin\tkoningin\tnoun\t14\tobj1\t_\t_\n",
    "16\tBeatrix\tBeatrix\tname\t15\tapp\t_\t_\n",
    "17\tlang\tlang\tadj\t26\tmod\t_\t_\n",
    "18\top\top\tprep\t26\tld\t_\t_\n",
    "19\tde\tde\tdet\t21\tdet\t_\t_\n",
    "20\tNederlandse\tNederlands\tadj\t21\tmod\t_\t_\n",
    "21\tvariant\tvariant\tnoun\t18\tobj1\t_\t_\n",
    "22\tvan\tvan\tprep\t21\tmod\t_\t_\n",
    "23\tde\tde\tdet\t24\tdet\t_\t_\n",
    "24\teuro\teuro\tnoun\t22\tobj1\t_\t_\n",
    "25\tzal\tzal\tverb\t11\tbody\t_\t_\n",
    "26\tprijken\tprijk\tverb\t25\tvc\t_\t_\n",
    "27\t.\t.\tpunct\t26\tpunct\t_\t_\"\"\"\n",
    "ss = [(lid+111, line) for lid, line in enumerate(sentence.split('\\n'))]\n",
    "sent = SentenceGraph(sentence=ss, formatter=formatter, fname=\"example_file\")\n",
    "sent.show(figsize=(15.0, 12.0), v_label='FORM', e_label='DEPREL')"
   ]
  },
  {
   "cell_type": "markdown",
   "metadata": {},
   "source": [
    "### Read sub-graph patterns and target-feature macros"
   ]
  },
  {
   "cell_type": "markdown",
   "metadata": {},
   "source": [
    "Read patterns from file of GraphML notation\n",
    "\n",
    "GraphML notation:\n",
    "```xml\n",
    "<graphml xmlns=\"http://graphml.graphdrawing.org/xmlns\"\n",
    "      xmlns:xsi=\"http://www.w3.org/2001/XMLSchema-instance\"\n",
    "      xsi:schemaLocation=\"http://graphml.graphdrawing.org/xmlns\n",
    "        http://graphml.graphdrawing.org/xmlns/1.0/graphml.xsd\">\n",
    "    <key id=\"n1\" for=\"node\" attr.name=\"LEMMA\" attr.type=\"string\">\n",
    "        <default>(\\w+)</default>\n",
    "    </key>\n",
    "    <key id=\"n2\" for=\"node\" attr.name=\"POS\" attr.type=\"string\">\n",
    "        <default>\\w+</default>\n",
    "    </key>\n",
    "    <key id=\"e1\" for=\"edge\" attr.name=\"DEPREL\" attr.type=\"string\"/>\n",
    "    <graph id=\"1\" edgedefault=\"directed\">\n",
    "        <node id=\"1\">\n",
    "            <data key=\"n2\">(V)\\w*</data>\n",
    "        </node>\n",
    "        <node id=\"2\">\n",
    "            <data key=\"n2\">(N)\\w*</data>\n",
    "        </node>\n",
    "        <edge source=\"1\" target=\"2\">\n",
    "            <data key=\"e1\">(nsubj)$</data>\n",
    "        </edge>\n",
    "    </graph>\n",
    "</graphml>\n",
    "```\n",
    "\n",
    "First, set node attributes by `<key></key>` tag. Set different `id`s for different node and edge attributes. Set the `attr.name` with the corresponding column name of `global-columns`.  \n",
    "Then set every sub-graph pattern in a `<graph></graph>` tag. The content in the `data` tag of each node or edge should be the corresponding regular expression."
   ]
  },
  {
   "cell_type": "markdown",
   "metadata": {},
   "source": [
    "Generate target-feature macro\n",
    "\n",
    "Specify the target format and feature format: string representation of node format and edge format.\n",
    "```xml\n",
    "<?xml version=\"1.0\" encoding=\"UTF-8\"?>\n",
    "<target-feature-list>\n",
    "    <target-fmt>\n",
    "        <node-fmt>\n",
    "            <LEMMA group=\"1\"/>\n",
    "            <POS group=\"1\"/>\n",
    "            <string connector=\"/\">LEMMA/POS</string>\n",
    "        </node-fmt>\n",
    "    </target-fmt>\n",
    "    <feature-fmt>\n",
    "        <node-fmt>\n",
    "            <LEMMA group=\"1\"/>\n",
    "            <POS group=\"1\"/>\n",
    "            <string connector=\"/\">LEMMA/POS</string>\n",
    "        </node-fmt>\n",
    "        <edge-fmt>DEPREL</edge-fmt>\n",
    "    </feature-fmt>\n",
    "    ...\n",
    "</target-feature-list>\n",
    "```\n",
    "\n",
    "`target-fmt` tag sets the node format of the target with the corresponding one in settings. `feature-fmt` tag sets the node and edge format of the feature with the same one in settings."
   ]
  },
  {
   "cell_type": "markdown",
   "metadata": {},
   "source": [
    "Specify the `sub-graph-pattern id`, the target `node id`, and the target description and feature description.\n",
    "```xml\n",
    "<?xml version=\"1.0\" encoding=\"UTF-8\"?>\n",
    "<target-feature-list>\n",
    "    ...\n",
    "    <target-feature-macro id=\"1\">\n",
    "        <sub-graph-pattern id=\"1\"/>\n",
    "        <target nodeID=\"2\">\n",
    "            <description>noun</description>\n",
    "        </target>\n",
    "        <feature>\n",
    "            <description>subject of verb</description>\n",
    "        </feature>\n",
    "    </target-feature-macro>\n",
    "    ...\n",
    "</target-feature-list>\n",
    "```\n",
    "In each `target-feature-macro` tag, set the `sub-graph-pattern` with the id of the pattern used for this macro. Set the node id of target and the description for target and feature (but they are not important)."
   ]
  },
  {
   "cell_type": "markdown",
   "metadata": {},
   "source": [
    "### Templates interested"
   ]
  },
  {
   "cell_type": "markdown",
   "metadata": {},
   "source": [
    "I'm interested in 5 templates, covering all combinations of one-  and two-step distances.\n",
    "\n",
    "1. Words that depend directly on the target.  \n",
    "E.g. _**een** heel **mooie** stof_: stof -> de; stof -> mooi (one-step, target is head)\n",
    "2. Words the target depends directly on.  \n",
    "E.g. _ik hou **van** die stof_: van -> stof (one-step, target is dependent)\n",
    "3. Words that depend on something that depends on the target.  \n",
    "E.g. _een **heel** mooie stof_: stof -> mooi -> heel (two-step, straight, target is head). The intermediate item would be covered by template 1.\n",
    "4. Words that are the head of the head that the target depends on.  \n",
    "E.g. _ik **hou** van die stof_: houden -> van -> stof (two-step, straight, target is dependent). The intermediate item would be covered by template 2.\n",
    "5. Words that depend on the head that the target also depends on.  \n",
    "E.g. _**ik** vind die stof leuk_: vinden -> ik; vinden -> stof (two-step, not straight)."
   ]
  },
  {
   "cell_type": "markdown",
   "metadata": {},
   "source": [
    "The GraphML patterns that correspond to your __templates__ should be:\n",
    "```xml\n",
    "<graphml xmlns=\"http://graphml.graphdrawing.org/xmlns\"\n",
    "      xmlns:xsi=\"http://www.w3.org/2001/XMLSchema-instance\"\n",
    "      xsi:schemaLocation=\"http://graphml.graphdrawing.org/xmlns\n",
    "        http://graphml.graphdrawing.org/xmlns/1.0/graphml.xsd\">\n",
    "    <key id=\"n1\" for=\"node\" attr.name=\"LEMMA\" attr.type=\"string\">\n",
    "        <default>(\\w+)</default>\n",
    "    </key>\n",
    "    <key id=\"n2\" for=\"node\" attr.name=\"POS\" attr.type=\"string\">\n",
    "        <default>(\\w+)</default>\n",
    "    </key>\n",
    "    <key id=\"e1\" for=\"edge\" attr.name=\"DEPREL\" attr.type=\"string\"/>\n",
    "    <graph id=\"1\" edgedefault=\"directed\">\n",
    "        <node id=\"1\">\n",
    "            <data key=\"n2\">(\\w+)</data>\n",
    "        </node>\n",
    "        <node id=\"2\">\n",
    "            <data key=\"n2\">(\\w+)</data>\n",
    "        </node>\n",
    "        <edge source=\"1\" target=\"2\">\n",
    "            <data key=\"e1\">\\w+</data>\n",
    "        </edge>\n",
    "    </graph>\n",
    "    <graph id=\"2\" edgedefault=\"directed\">\n",
    "        <node id=\"1\">\n",
    "            <data key=\"n2\">(\\w+)</data>\n",
    "        </node>\n",
    "        <node id=\"2\">\n",
    "            <data key=\"n2\">(\\w+)</data>\n",
    "        </node>\n",
    "        <node id=\"3\">\n",
    "            <data key=\"n2\">(\\w+)</data>\n",
    "        </node>\n",
    "        <edge source=\"1\" target=\"2\">\n",
    "            <data key=\"e1\">\\w+</data>\n",
    "        </edge>\n",
    "        <edge source=\"2\" target=\"3\">\n",
    "            <data key=\"e1\">\\w+</data>\n",
    "        </edge>\n",
    "    </graph>\n",
    "    <graph id=\"3\" edgedefault=\"directed\">\n",
    "        <node id=\"1\">\n",
    "            <data key=\"n2\">(\\w+)</data>\n",
    "        </node>\n",
    "        <node id=\"2\">\n",
    "            <data key=\"n2\">(\\w+)</data>\n",
    "        </node>\n",
    "        <node id=\"3\">\n",
    "            <data key=\"n2\">(\\w+)</data>\n",
    "        </node>\n",
    "        <edge source=\"1\" target=\"2\">\n",
    "            <data key=\"e1\">\\w+</data>\n",
    "        </edge>\n",
    "        <edge source=\"1\" target=\"3\">\n",
    "            <data key=\"e1\">\\w+</data>\n",
    "        </edge>\n",
    "    </graph>\n",
    "</graphml>\n",
    "```"
   ]
  },
  {
   "cell_type": "markdown",
   "metadata": {},
   "source": [
    "The XML target-feature macros should be\n",
    "```xml\n",
    "<?xml version=\"1.0\" encoding=\"UTF-8\"?>\n",
    "<target-feature-list>\n",
    "    <target-fmt>\n",
    "        <node-fmt>\n",
    "            <LEMMA group=\"1\"/>\n",
    "            <POS group=\"1\"/>\n",
    "            <string connector=\"/\">LEMMA/POS</string>\n",
    "        </node-fmt>\n",
    "    </target-fmt>\n",
    "    <feature-fmt>\n",
    "        <node-fmt>\n",
    "            <LEMMA group=\"1\"/>\n",
    "            <POS group=\"1\"/>\n",
    "            <string connector=\"/\">LEMMA/POS</string>\n",
    "        </node-fmt>\n",
    "        <edge-fmt>DEPREL</edge-fmt>\n",
    "    </feature-fmt>\n",
    "    <target-feature-macro id=\"1\">\n",
    "        <sub-graph-pattern id=\"1\"/>\n",
    "        <target nodeID=\"2\">\n",
    "        </target>\n",
    "        <feature>\n",
    "            <description>Words that depend directly on the target.</description>\n",
    "        </feature>\n",
    "    </target-feature-macro>\n",
    "    <target-feature-macro id=\"2\">\n",
    "        <sub-graph-pattern id=\"1\"/>\n",
    "        <target nodeID=\"1\">\n",
    "        </target>\n",
    "        <feature>\n",
    "            <description>Words the target depends directly on.</description>\n",
    "        </feature>\n",
    "    </target-feature-macro>\n",
    "    <target-feature-macro id=\"3\">\n",
    "        <sub-graph-pattern id=\"2\"/>\n",
    "        <target nodeID=\"3\">\n",
    "        </target>\n",
    "        <feature>\n",
    "            <description>Words that depend on something that depends on the target.</description>\n",
    "        </feature>\n",
    "    </target-feature-macro>\n",
    "    <target-feature-macro id=\"4\">\n",
    "        <sub-graph-pattern id=\"2\"/>\n",
    "        <target nodeID=\"1\">\n",
    "        </target>\n",
    "        <feature>\n",
    "            <description>Words that are the head of the head that the target depends on.</description>\n",
    "        </feature>\n",
    "    </target-feature-macro>\n",
    "    <target-feature-macro id=\"5\">\n",
    "        <sub-graph-pattern id=\"3\"/>\n",
    "        <target nodeID=\"1\">\n",
    "        </target>\n",
    "        <feature>\n",
    "            <description>Words that depend on the head that the target also depends on.</description>\n",
    "        </feature>\n",
    "    </target-feature-macro>\n",
    "</target-feature-list>\n",
    "```"
   ]
  },
  {
   "cell_type": "code",
   "execution_count": 7,
   "metadata": {
    "ExecuteTime": {
     "end_time": "2020-01-08T18:05:51.474104Z",
     "start_time": "2020-01-08T18:05:51.435997Z"
    }
   },
   "outputs": [],
   "source": [
    "graphml_fname = \"/home/tao/Projects/mariana/QLVLNews.template.graphml\"\n",
    "patterns = PatternGraph.read_graphml(graphml_fname)\n",
    "\n",
    "macro_fname = \"/home/tao/Projects/mariana/QLVLNews.target-feature-macro.xml\"\n",
    "macros = MacroGraph.read_xml(macro_fname, patterns)"
   ]
  },
  {
   "cell_type": "markdown",
   "metadata": {},
   "source": [
    "Before you use sub-graph patterns and target-feature macros in building dependency, you should use the following function to check the patterns or macros."
   ]
  },
  {
   "cell_type": "code",
   "execution_count": 8,
   "metadata": {
    "ExecuteTime": {
     "end_time": "2020-01-08T18:07:34.025562Z",
     "start_time": "2020-01-08T18:07:34.014001Z"
    }
   },
   "outputs": [],
   "source": [
    "def plot_patterns():\n",
    "    plt.rcParams['figure.figsize'] = (20.0, 32.0)\n",
    "    for i in range(len(macros)):\n",
    "        plt.subplot(5, 2, i+1)\n",
    "        draw_labels(macros[i].graph, v_labels='POS', e_labels='DEPREL')\n",
    "    plt.show()\n",
    "\n",
    "# plot_patterns()"
   ]
  },
  {
   "cell_type": "markdown",
   "metadata": {},
   "source": [
    "### Match multiple files"
   ]
  },
  {
   "cell_type": "code",
   "execution_count": 9,
   "metadata": {},
   "outputs": [
    {
     "name": "stdout",
     "output_type": "stream",
     "text": [
      "WARNING: Not provide the temporary path!\n",
      "WARNING: Use the default tmp directory: '~/tmp'!\n",
      "Building item frequency list...\n"
     ]
    },
    {
     "data": {
      "application/vnd.jupyter.widget-view+json": {
       "model_id": "4aa87e75d68b4564a2abdd6f4bdce3d7",
       "version_major": 2,
       "version_minor": 0
      },
      "text/plain": [
       "HBox(children=(IntProgress(value=0, max=428), HTML(value='')))"
      ]
     },
     "metadata": {},
     "output_type": "display_data"
    },
    {
     "name": "stdout",
     "output_type": "stream",
     "text": [
      "\n"
     ]
    }
   ],
   "source": [
    "ifhan = ItemFreqHandler(settings)\n",
    "total_vocab = ifhan.build_item_freq()"
   ]
  },
  {
   "cell_type": "code",
   "execution_count": 10,
   "metadata": {},
   "outputs": [
    {
     "name": "stdout",
     "output_type": "stream",
     "text": [
      "Total items: 1782\n",
      "Total freqs: 145979\n",
      "count   1782.000000\n",
      "mean      81.918631\n",
      "std      468.373350\n",
      "min       10.000000\n",
      "25%       13.000000\n",
      "50%       19.000000\n",
      "75%       37.000000\n",
      "max    10686.000000\n"
     ]
    }
   ],
   "source": [
    "vocab = total_vocab[total_vocab.freq >= 10]\n",
    "vocab = vocab[:-100]\n",
    "print(vocab.describe())"
   ]
  },
  {
   "cell_type": "code",
   "execution_count": 11,
   "metadata": {},
   "outputs": [
    {
     "data": {
      "text/plain": [
       "[('heb/verb', 1545),('word/verb', 1241)]"
      ]
     },
     "execution_count": 11,
     "metadata": {},
     "output_type": "execute_result"
    }
   ],
   "source": [
    "# vocab.dataframe.head(30)\n",
    "# select two types: \"heb/verb\", \"word/verb\"\n",
    "test_vocab = vocab.subvocab([\"heb/verb\", \"word/verb\"])\n",
    "test_vocab"
   ]
  },
  {
   "cell_type": "code",
   "execution_count": 12,
   "metadata": {
    "ExecuteTime": {
     "end_time": "2020-01-08T18:10:38.963514Z",
     "start_time": "2020-01-08T18:10:36.969963Z"
    }
   },
   "outputs": [
    {
     "name": "stdout",
     "output_type": "stream",
     "text": [
      "WARNING: Not provide the temporary path!\n",
      "WARNING: Use the default tmp directory: '~/tmp'!\n",
      "Building dependency features...\n"
     ]
    },
    {
     "data": {
      "application/vnd.jupyter.widget-view+json": {
       "model_id": "6e955838cbe54b36b4408de76795db07",
       "version_major": 2,
       "version_minor": 0
      },
      "text/plain": [
       "HBox(children=(IntProgress(value=0, max=428), HTML(value='')))"
      ]
     },
     "metadata": {},
     "output_type": "display_data"
    },
    {
     "name": "stdout",
     "output_type": "stream",
     "text": [
      "\n",
      "Building matrix...\n"
     ]
    },
    {
     "data": {
      "text/plain": [
       "[2753, 4029]                               0/num  1/noun  1/num  10/num  100/num  103/num  119/num  ...\n",
       "heb/verb/nrc_handelsblad_19990104_101/675  NaN    NaN     NaN    NaN     NaN      NaN      NaN      ...\n",
       "heb/verb/nrc_handelsblad_19990104_101/806  NaN    NaN     NaN    NaN     NaN      NaN      NaN      ...\n",
       "heb/verb/nrc_handelsblad_19990104_102/24   NaN    NaN     NaN    NaN     NaN      NaN      NaN      ...\n",
       "heb/verb/nrc_handelsblad_19990104_105/105  NaN    NaN     NaN    NaN     NaN      NaN      NaN      ...\n",
       "heb/verb/nrc_handelsblad_19990104_105/123  NaN    NaN     NaN    NaN     NaN      NaN      NaN      ...\n",
       "heb/verb/nrc_handelsblad_19990104_105/37   NaN    NaN     NaN    NaN     NaN      NaN      NaN      ...\n",
       "heb/verb/nrc_handelsblad_19990104_105/64   NaN    NaN     NaN    NaN     NaN      NaN      NaN      ...\n",
       "...                                        ...    ...     ...    ...     ...      ...      ...      ..."
      ]
     },
     "execution_count": 12,
     "metadata": {},
     "output_type": "execute_result"
    }
   ],
   "source": [
    "dephan = DepRelHandler(settings, workers=4, targets=test_vocab, mode='token')\n",
    "dephan.read_templates(macros=macros)\n",
    "freqMTX = dephan.build_dependency(fnames=qlvl_files)\n",
    "freqMTX"
   ]
  },
  {
   "cell_type": "code",
   "execution_count": 13,
   "metadata": {},
   "outputs": [
    {
     "name": "stdout",
     "output_type": "stream",
     "text": [
      "*******Matrix Description*******\n",
      "  matrix shape:\t2753 X 4029\n",
      "  is sparse:\tTrue\n",
      "  num of eles:\t14673\n",
      "  density:\t0.13%\n",
      "********************************\n"
     ]
    },
    {
     "data": {
      "text/plain": [
       "array([ 7,  6,  6, ...,  6,  6, 12])"
      ]
     },
     "execution_count": 13,
     "metadata": {},
     "output_type": "execute_result"
    }
   ],
   "source": [
    "print(freqMTX.describe())\n",
    "freqMTX.count_nonzero()"
   ]
  },
  {
   "cell_type": "code",
   "execution_count": 14,
   "metadata": {
    "ExecuteTime": {
     "end_time": "2020-01-08T18:10:38.963514Z",
     "start_time": "2020-01-08T18:10:36.969963Z"
    }
   },
   "outputs": [
    {
     "name": "stdout",
     "output_type": "stream",
     "text": [
      "WARNING: Not provide the temporary path!\n",
      "WARNING: Use the default tmp directory: '~/tmp'!\n",
      "Building dependency features...\n"
     ]
    },
    {
     "data": {
      "application/vnd.jupyter.widget-view+json": {
       "model_id": "a93b096e6552400a861651e362ee4fc8",
       "version_major": 2,
       "version_minor": 0
      },
      "text/plain": [
       "HBox(children=(IntProgress(value=0, max=428), HTML(value='')))"
      ]
     },
     "metadata": {},
     "output_type": "display_data"
    },
    {
     "name": "stdout",
     "output_type": "stream",
     "text": [
      "\n",
      "Building matrix...\n"
     ]
    },
    {
     "data": {
      "text/plain": [
       "[2, 4029]  0/num  1/noun  1/num  10/num  100/num  103/num  119/num  ...\n",
       "heb/verb   1      NaN     2      1       1        NaN      NaN      ...\n",
       "word/verb  NaN    1       1      NaN     NaN      5        2        ..."
      ]
     },
     "execution_count": 14,
     "metadata": {},
     "output_type": "execute_result"
    }
   ],
   "source": [
    "dephan = DepRelHandler(settings, workers=4, targets=test_vocab, mode='type')\n",
    "dephan.read_templates(macros=macros)\n",
    "freqMTX = dephan.build_dependency(fnames=qlvl_files)\n",
    "freqMTX"
   ]
  },
  {
   "cell_type": "markdown",
   "metadata": {},
   "source": [
    "## Format of results (tokens)"
   ]
  },
  {
   "cell_type": "markdown",
   "metadata": {},
   "source": [
    "\\[From Mariana\\] \n",
    "* First, I obtained the list of files that I used for my cloud AND are among the files I sent you (19 cases). \n",
    "* Then, I retrieved the context of the tokens and listed the types that correspond to my templates. \n",
    "* By running those functions, you should see the types returned by each template in the templates dictionary  \n",
    "  (called temp1, temp2… temp5 to match the ones your model should return)  \n",
    "  and all the types returned for each token in the results dictionary. \n",
    "* After running the dependency, I displayed the original token-position matrix and then showed what information I'm expecting from the dependency data to adapt the token-position matrix (using the data from the results dictionary)."
   ]
  },
  {
   "cell_type": "code",
   "execution_count": 1,
   "metadata": {
    "ExecuteTime": {
     "end_time": "2020-01-08T16:55:54.641183Z",
     "start_time": "2020-01-08T16:55:54.566181Z"
    }
   },
   "outputs": [
    {
     "name": "stdout",
     "output_type": "stream",
     "text": [
      "428\n"
     ]
    }
   ],
   "source": [
    "from pathlib import Path\n",
    "qlvl_files = list(Path('/home/tao/Projects/mariana/QLVLNews/').iterdir())\n",
    "print(len(qlvl_files))"
   ]
  },
  {
   "cell_type": "code",
   "execution_count": 19,
   "metadata": {},
   "outputs": [
    {
     "data": {
      "text/plain": [
       "19"
      ]
     },
     "execution_count": 19,
     "metadata": {},
     "output_type": "execute_result"
    }
   ],
   "source": [
    "total_vocab['zwart/adj']"
   ]
  },
  {
   "cell_type": "code",
   "execution_count": 16,
   "metadata": {
    "ExecuteTime": {
     "end_time": "2020-01-08T20:45:47.308459Z",
     "start_time": "2020-01-08T20:45:47.255638Z"
    }
   },
   "outputs": [
    {
     "name": "stdout",
     "output_type": "stream",
     "text": [
      "(300, 1306)\n"
     ]
    },
    {
     "data": {
      "text/plain": [
       "['nrc_handelsblad_20030930_96',\n",
       " 'nrc_handelsblad_20000207_58',\n",
       " 'nrc_handelsblad_20000824_137']"
      ]
     },
     "execution_count": 16,
     "metadata": {},
     "output_type": "execute_result"
    }
   ],
   "source": [
    "extokfname = \"/home/tao/Projects/mariana/zwart.tcmx.pos.pac\"\n",
    "tokmx = TypeTokenMatrix.load(extokfname)\n",
    "print(tokmx.shape)\n",
    "# file names in targets\n",
    "tokfiles = [tok.split('/')[2] for tok in tokmx.row_items]\n",
    "tokfiles[:3]"
   ]
  },
  {
   "cell_type": "code",
   "execution_count": 21,
   "metadata": {},
   "outputs": [
    {
     "name": "stdout",
     "output_type": "stream",
     "text": [
      "['nrc_handelsblad_19990112_135', 'nrc_handelsblad_19990108_117', 'nrc_handelsblad_19990108_138']\n"
     ]
    },
    {
     "data": {
      "text/plain": [
       "set()"
      ]
     },
     "execution_count": 21,
     "metadata": {},
     "output_type": "execute_result"
    }
   ],
   "source": [
    "allfnames = [os.path.basename(fname).rsplit('.', 1)[0] \n",
    "             for fname in qlvl_files]\n",
    "print(allfnames[:3])\n",
    "set(tokfiles).intersection(set(allfnames))"
   ]
  },
  {
   "cell_type": "code",
   "execution_count": 23,
   "metadata": {},
   "outputs": [
    {
     "name": "stdout",
     "output_type": "stream",
     "text": [
      "['zwart/adj/nrc_handelsblad_20030930_96/232', 'zwart/adj/nrc_handelsblad_20000207_58/1074', 'zwart/adj/nrc_handelsblad_20000824_137/88']\n",
      "[('nrc_handelsblad_20030930_96', '232'), ('nrc_handelsblad_20000207_58', '1074'), ('nrc_handelsblad_20000824_137', '88')]\n"
     ]
    }
   ],
   "source": [
    "# ids = [x for x in tokenMatrix.row_items if x.split('/')[2] in zfiles]\n",
    "# tokens = dict([(x.split('/')[2], x.split('/')[3]) for x in ids])\n",
    "ids = tokmx.row_items\n",
    "tokens = dict(map(lambda x: x.split('/')[2:], ids))\n",
    "print(ids[:3])\n",
    "print(list(tokens.items())[:3])"
   ]
  },
  {
   "cell_type": "markdown",
   "metadata": {},
   "source": [
    "I'm interested in 5 templates, covering all combinations of one-  and two-step distances.\n",
    "\n",
    "1. Words that depend directly on the target.  \n",
    "E.g. _**een** heel **mooie** stof_: stof -> de; stof -> mooi (one-step, target is head)\n",
    "2. Words the target depends directly on.  \n",
    "E.g. _ik hou **van** die stof_: van -> stof (one-step, target is dependent)\n",
    "3. Words that depend on something that depends on the target.  \n",
    "E.g. _een **heel** mooie stof_: stof -> mooi -> heel (two-step, straight, target is head). The intermediate item would be covered by template 1.\n",
    "4. Words that are the head of the head that the target depends on.  \n",
    "E.g. _ik **hou** van die stof_: houden -> van -> stof (two-step, straight, target is dependent). The intermediate item would be covered by template 2.\n",
    "5. Words that depend on the head that the target also depends on.  \n",
    "E.g. _**ik** vind die stof leuk_: vinden -> ik; vinden -> stof (two-step, not straight)."
   ]
  },
  {
   "cell_type": "code",
   "execution_count": null,
   "metadata": {},
   "outputs": [],
   "source": [
    "# columns:\n",
    "# \n",
    "for file in files:\n",
    "    with open(file, encoding = 'latin1') as f:\n",
    "        text = f.readlines()\n",
    "        fname = file.rsplit('/', 1)[1].split('.')[0]\n",
    "        t = int(tokens[fname])  # line number\n",
    "        token_id = 'zwart/adj/' + fname + '/' + str(t)\n",
    "        this_idx = int(text[t-1].split('\\t')[0])  # current word id of this line\n",
    "        start = t-this_idx\n",
    "        end = t+text[t:].index('</sentence>\\n')\n",
    "        minitext = [x.split('\\t') for x in text[start:end]]  # sentence?\n",
    "        \n",
    "        this_head = text[t-1].split('\\t')[4]  # headID\n",
    "        temp1 = [x[2]+'/'+x[3] for x in minitext if x[4] == str(this_idx)]\n",
    "        temp2 = [x[2]+'/'+x[3] for x in minitext if x[0] == this_head]\n",
    "        dep_idx = [x[0] for x in minitext if x[4] == str(this_idx)]\n",
    "        head_head = [x[4] for x in minitext if x[0] == this_head][0]\n",
    "        temp3 = [x[2]+'/'+x[3] for x in minitext if x[4] in dep_idx]\n",
    "        temp4 = [x[2]+'/'+x[3] for x in minitext if x[0] == head_head]\n",
    "        temp5 = [x[2]+'/'+x[3] for x in minitext if (x[4] == this_head and not x[0] == str(this_idx))]\n",
    "\n",
    "        # results for the 5 templates\n",
    "        template_results = {'temp1':temp1, 'temp2':temp2, 'temp3':temp3, 'temp4':temp4, 'temp5':temp5}\n",
    "        cws = temp1 + temp2 + temp3 + temp4 + temp5\n",
    "        templates[token_id] = template_results\n",
    "        results[token_id] = cws"
   ]
  },
  {
   "cell_type": "code",
   "execution_count": null,
   "metadata": {},
   "outputs": [],
   "source": []
  }
 ],
 "metadata": {
  "kernelspec": {
   "display_name": "Python 3",
   "language": "python",
   "name": "python3"
  },
  "language_info": {
   "codemirror_mode": {
    "name": "ipython",
    "version": 3
   },
   "file_extension": ".py",
   "mimetype": "text/x-python",
   "name": "python",
   "nbconvert_exporter": "python",
   "pygments_lexer": "ipython3",
   "version": "3.6.8"
  },
  "toc": {
   "base_numbering": 1,
   "nav_menu": {},
   "number_sections": true,
   "sideBar": true,
   "skip_h1_title": false,
   "title_cell": "Table of Contents",
   "title_sidebar": "Contents",
   "toc_cell": false,
   "toc_position": {},
   "toc_section_display": true,
   "toc_window_display": false
  }
 },
 "nbformat": 4,
 "nbformat_minor": 2
}
